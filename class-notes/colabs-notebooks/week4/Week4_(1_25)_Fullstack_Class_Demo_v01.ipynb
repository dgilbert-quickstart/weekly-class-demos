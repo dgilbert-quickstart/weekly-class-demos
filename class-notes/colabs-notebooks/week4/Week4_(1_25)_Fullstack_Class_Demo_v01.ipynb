{
  "nbformat": 4,
  "nbformat_minor": 0,
  "metadata": {
    "colab": {
      "provenance": []
    },
    "kernelspec": {
      "name": "python3",
      "display_name": "Python 3"
    },
    "language_info": {
      "name": "python"
    }
  },
  "cells": [
    {
      "cell_type": "markdown",
      "source": [
        "# Week 4 topic summary\n",
        "  - https://www.w3schools.com/js/\n",
        "  - javascript programming intro\n",
        "    - es1-es6+\n",
        "      - Js 1..4 - 1997-2008\n",
        "      - Es5 - 2009+\n",
        "      - Es6 - 2015+ 2020\n",
        "    - variables, if, while\n",
        "    - array\n",
        "    - object\n",
        "    - json data\n",
        "    - other\n",
        "  - dynamic programming\n",
        "  - static websites , static web pages\n",
        "    - dynamic websites ie: dynamic web pages\n",
        "    - pre- react javascript dynamic websites\n",
        "    -  event:mouse, keyboard, page, timer, DOM-Document Object-Model, code actions\n",
        "    - event attribute js script reference\n",
        "    - page script js refence\n",
        "    - external file js script refence\n",
        "  - demo dynamic web applications\n",
        "    - es6\n",
        "    - generating html using the DOM\n",
        "    - selecting DOM elements\n",
        "    - wireframe, user stories, githubpages, git clone\n",
        "    - display date/time\n",
        "    - invoice claculator\n",
        "    - contact form validation\n",
        "    - array introduction\n",
        "    - shopping cart application\n",
        "    - display web data app ie: json placeholder\n",
        "  - deply website to github pages\n",
        "  - Json document introduction demo  \n",
        "  - css Query api introduciton demo\n",
        "  - demo project #2 web application\n",
        "  - search engine demo app\n",
        "  - giphy api\n",
        "    - Giphy api introduction demo   \n",
        "  - Rest API  -  Representational State Transfer API,\n",
        "    - A way for applications to communicate with each other over the interne\n",
        "    - Retrieve and update data from other websites\n",
        "    - get, post, put, delete\n",
        "    - json data\n",
        "    - async programming\n",
        "    - non-blocking api call promise, async/await\n",
        "  - css compiler SCSS introduction  \n",
        "    - css compiler SCSS introduction  demo\n",
        "  - css media queries - responsive websites\n",
        "    - css media queries - responsive websites demo  \n",
        "  - other\n",
        "\n",
        "  \n"
      ],
      "metadata": {
        "id": "FhDS6SaZyU7U"
      }
    },
    {
      "cell_type": "markdown",
      "source": [
        "# Week (1-2) - Topic summary\n",
        "  - HTML5\n",
        "  - Nav menu\n",
        "  - layout\n",
        "  - Css\n",
        "  - Bootstrap\n",
        "  - Git, Github\n",
        "  - Github pages\n",
        "  - vs.code\n",
        "    - vs.code extensions\n",
        "  - browser devtools\n",
        "  - Software Engineer Development/Tools/Management\n",
        "  - Product Development/Tools/Management\n"
      ],
      "metadata": {
        "id": "CIxDhKTTOHsf"
      }
    },
    {
      "cell_type": "markdown",
      "source": [
        "#Javascript demo #1\n",
        "  - https://www.w3schools.com/js/\n",
        "  - javascript programming intro\n",
        "      - es1-es6+\n",
        "      - Js 1..4 - 1997-2008\n",
        "      - Es5 - 2009+\n",
        "      - Es6 - 2015+ 2020\n",
        "    - variables, if, while\n",
        "    - array\n",
        "    - object\n",
        "    - json data\n",
        "    - other\n",
        "\n",
        "### javascript webpage demo #1\n",
        "    - event attribute js script reference\n",
        "    - page script js refence\n",
        "    - external file js script refence\n",
        "\n",
        "<pre>\n",
        "Javascript introduciton demos\n",
        "Javascript code runs when an event occurs\n",
        "- example: mouse button click, page load event or keyboard input, timer etc\n",
        "\n",
        "-------\n",
        "Code in js file\n",
        "Code in js function\n",
        ".......\n",
        "Function - name given to a group of code\n",
        "Function parameters\n",
        "Function return\n",
        "Calling function\n",
        "\n",
        "- element events - onclick, onload, other\n",
        "- create function\n",
        "- call function\n",
        "  - display alert\n",
        "  - display log\n",
        "  - page load\n",
        "  - display text in element using DOM - Document Object Model\n",
        "- variables\n",
        "  - number, string, object\n",
        "  - cast or convert string to number\n",
        "  - Other\n",
        "\n",
        "...........\n",
        "demo example summary #1\n",
        "...........\n",
        "\n",
        "js script\n",
        "include js file\n",
        "javascript events\n",
        "  onclick - link click\n",
        "  onclick - button click\n",
        "  onload  - page load\n",
        "get text from input field\n",
        "  - placeholder, name, id, required\n",
        "  - onclick\n",
        "function with parameters\n",
        "other\n",
        "\n",
        "...........\n",
        "demo example summary #2\n",
        "...........\n",
        "DOM Intro\n",
        "- select document elements\n",
        "- display information in document\n",
        "- other\n",
        "\n",
        "</pre>"
      ],
      "metadata": {
        "id": "Wr8rj1r4N-wU"
      }
    },
    {
      "cell_type": "markdown",
      "source": [
        "#Javascript invoice/Inventory calculator demo webpage #1\n",
        "\n",
        "<pre>\n",
        "Demo #1\n",
        "-----------------------\n",
        "- calculate two invoice items\n",
        "- other\n",
        "\n",
        "Demo #2\n",
        "-----------------------\n",
        "- calculate five invoice items\n",
        "- other\n",
        "\n",
        "Demo #3\n",
        "-----------------------\n",
        "- calculate ten invoice items\n",
        "- other\n",
        "\n",
        "</pre>"
      ],
      "metadata": {
        "id": "U7vCxsh5Irx8"
      }
    },
    {
      "cell_type": "markdown",
      "source": [
        "#Javascript form validation demo website #\n",
        "\n",
        "<pre>\n",
        "Demo #1\n",
        "--------------------\n",
        "- validate first name\n",
        "- validate last name\n",
        "\n",
        "Demo #2\n",
        "--------------------\n",
        "- validate first name\n",
        "- no validation for last name\n",
        "- validate email\n",
        "- validate comment\n",
        "\n",
        "</pre>"
      ],
      "metadata": {
        "id": "9SI22Wf1I3VK"
      }
    },
    {
      "cell_type": "markdown",
      "source": [
        "#Introduction to Javascript Arrays demo #1\n",
        "\n",
        "<pre>\n",
        "\n",
        "array demo\n",
        "------------------\n",
        "- calculate inventory/invoice of 20 items\n",
        "\n",
        "</pre>"
      ],
      "metadata": {
        "id": "yc6f8g6teka3"
      }
    },
    {
      "cell_type": "markdown",
      "source": [
        "#Introduction to Javascript date/time object\n"
      ],
      "metadata": {
        "id": "kVXw8dAXfDSb"
      }
    },
    {
      "cell_type": "markdown",
      "source": [
        "#Javascrpt demo #2\n",
        "  - dynamic programming\n",
        "  - static websites , static web pages\n",
        "  - dynamic websites ie: dynamic web pages\n",
        "    - pre- react javascript dynamic websites\n",
        "    -  event:mouse, keyboard, page, timer, DOM-Document Object-Model, code\n",
        "\n",
        "---\n",
        "\n",
        "actions\n",
        "  - demo dynamic web applications\n",
        "    - wireframe, user stories, githubpages, git clone\n",
        "    - es6\n",
        "    - generating html using the DOM\n",
        "    - selecting DOM elements\n",
        "    - display date/time\n",
        "    - invoice claculator\n",
        "    - contact form validation\n",
        "    - array introduction\n",
        "    - shopping cart application\n",
        "    - display web data app ie: json placeholder\n",
        "    - non-blocking api call promise, async/await\n"
      ],
      "metadata": {
        "id": "LyT-uF8cOcej"
      }
    },
    {
      "cell_type": "markdown",
      "source": [
        "#Json document introduction demo  \n",
        "#Query api introduciton demo\n",
        "#Giphy api introduction demo\n",
        "#css compiler SCSS introduction  demo\n",
        "#css media queries - responsive websites demo  \n",
        "  "
      ],
      "metadata": {
        "id": "1TaJtxzhKEGn"
      }
    },
    {
      "cell_type": "markdown",
      "source": [
        "#Html Javascript demo website 1\n"
      ],
      "metadata": {
        "id": "6fXsK4T1loLJ"
      }
    },
    {
      "cell_type": "code",
      "source": [
        "%%html\n",
        "<!DOCTYPE html>\n",
        "<html lang=\"en\">\n",
        "<head>\n",
        "    <meta charset=\"UTF-8\">\n",
        "    <meta name=\"viewport\" content=\"width=device-width, initial-scale=1.0\">\n",
        "    <title>Js Demo 1</title>\n",
        "    <script>\n",
        "        //javascript single line comment\n",
        "\n",
        "        /*\n",
        "        javascript multi\n",
        "        line comment\n",
        "        */\n",
        "\n",
        "        //group code in a name called function\n",
        "        //define function\n",
        "        function display_info_1()\n",
        "        {\n",
        "            console.log(\"# Js Demo 1\");\n",
        "            //alert(\"# Js Demo 1\")\n",
        "        }\n",
        "\n",
        "        //call function\n",
        "        display_info_1();\n",
        "\n",
        "    </script>\n",
        "</head>\n",
        "<body>\n",
        "    <nav>\n",
        "        <a href=\"index.html\"><img src=\"logo-1.png\" width=\"100\" height=\"30\" alt=\"logo-1\"></a>\n",
        "        <a href=\"js-demo-1.html\">js demo 1</a>\n",
        "    </nav>\n",
        "    <p></p>\n",
        "    <main>\n",
        "        <section>\n",
        "            <h2>\n",
        "                Js Demo 1\n",
        "            </h2>\n",
        "        </section>\n",
        "    </main>\n",
        "    <p></p>\n",
        "    <footer>\n",
        "        <p>footer @ 2025\n",
        "    </footer>\n",
        "</body>\n",
        "</html>"
      ],
      "metadata": {
        "id": "76A0qySblvSh"
      },
      "execution_count": null,
      "outputs": []
    },
    {
      "cell_type": "code",
      "source": [
        "%%javascript\n",
        "\n",
        "//javascript single line comment\n",
        "\n",
        "/*\n",
        "javascript multi\n",
        "line comment\n",
        "*/\n",
        "\n",
        "//group code in a name called function\n",
        "//define function\n",
        "function display_info_1()\n",
        "{\n",
        "    console.log(\"# Js Demo 3\");\n",
        "    //alert(\"# Js Demo 3\")\n",
        "}\n",
        "\n",
        "function demo_f1(){\n",
        "    console.log(\"# demo function 1\")\n",
        "    alert(\"# demo function 1\")\n",
        "}\n",
        "\n",
        "function demo_f2() {\n",
        "    console.log(\"# demo function 2\")\n",
        "    alert(\"# demo function 2\")\n",
        "}\n",
        "\n",
        "//onload event - occurs everytime a page is displayed\n",
        "//define a function called page_load\n",
        "function page_load()\n",
        "{\n",
        "    console.log(\"# page_load:js demo page 3\")\n",
        "    display_info_1();\n",
        "}\n",
        "\n",
        "//call function\n",
        "//best practice - call a function in a event or another function\n",
        "//display_info_1();\n"
      ],
      "metadata": {
        "id": "lklUKxhb-Kng"
      },
      "execution_count": null,
      "outputs": []
    },
    {
      "cell_type": "code",
      "source": [
        "%%html\n",
        "<style>\n",
        "  /* global-1.css */\n",
        "  .global-center-page {\n",
        "    display: flex;\n",
        "    flex-direction: column;\n",
        "    justify-content: center;\n",
        "    align-items: center;\n",
        "}\n",
        "\n",
        ".global-footer {\n",
        "    text-align: center;\n",
        "}\n",
        "\n",
        "</style>"
      ],
      "metadata": {
        "id": "WH_b1p0XPP2b"
      },
      "execution_count": null,
      "outputs": []
    },
    {
      "cell_type": "code",
      "source": [
        "%%html\n",
        "\n",
        "<!DOCTYPE html>\n",
        "<html lang=\"en\">\n",
        "<head>\n",
        "    <meta charset=\"UTF-8\">\n",
        "    <meta name=\"viewport\" content=\"width=device-width, initial-scale=1.0\">\n",
        "    <title>Js Demo 3</title>\n",
        "    <link rel=\"stylesheet\" href=\"css/global-1.css\">\n",
        "    <script src=\"js/js-demo-3.js\"></script>\n",
        "</head>\n",
        "<body onload=\"page_load()\">\n",
        "    <nav>\n",
        "        <a href=\"index.html\"><img src=\"logo-1.png\" width=\"100\" height=\"30\" alt=\"logo-1\"></a>\n",
        "        <a href=\"js-demo-1.html\">js demo 1</a>\n",
        "        <a href=\"js-demo-2.html\">js demo 2</a>\n",
        "        <a href=\"js-demo-3.html\">js demo 3</a>\n",
        "    </nav>\n",
        "    <p></p>\n",
        "    <main class=\"global-center-page\">\n",
        "        <section>\n",
        "            <h2>\n",
        "                Js Demo 3\n",
        "            </h2>\n",
        "            <p></p>\n",
        "            <a href=\"#\" onclick=\"demo_f1()\">js link 1</a>\n",
        "            <p></p>\n",
        "            <button onclick=\"demo_f2()\">js button 2</button>\n",
        "            <p></p>\n",
        "        </section>\n",
        "    </main>\n",
        "    <p></p>\n",
        "    <footer class=\"global-footer\">\n",
        "        <p>footer @ 2025\n",
        "    </footer>\n",
        "</body>\n",
        "</html>\n",
        "\n"
      ],
      "metadata": {
        "id": "h1s52Z1Jl1xs"
      },
      "execution_count": null,
      "outputs": []
    },
    {
      "cell_type": "code",
      "source": [],
      "metadata": {
        "id": "_CH89kZOvjUS"
      },
      "execution_count": null,
      "outputs": []
    }
  ]
}