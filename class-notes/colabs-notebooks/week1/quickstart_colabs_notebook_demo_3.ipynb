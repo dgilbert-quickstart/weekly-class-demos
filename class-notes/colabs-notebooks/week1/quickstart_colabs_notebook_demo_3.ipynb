{
  "nbformat": 4,
  "nbformat_minor": 0,
  "metadata": {
    "colab": {
      "provenance": []
    },
    "kernelspec": {
      "name": "python3",
      "display_name": "Python 3"
    },
    "language_info": {
      "name": "python"
    }
  },
  "cells": [
    {
      "cell_type": "code",
      "execution_count": 1,
      "metadata": {
        "colab": {
          "base_uri": "https://localhost:8080/",
          "height": 74
        },
        "id": "wCzekmcfOcwP",
        "outputId": "9a96204d-e525-45ab-9c4a-3f10c0b78383"
      },
      "outputs": [
        {
          "output_type": "display_data",
          "data": {
            "text/plain": [
              "<IPython.core.display.HTML object>"
            ],
            "text/html": [
              "\n",
              "<h1>Intro to html</h1>\n"
            ]
          },
          "metadata": {}
        }
      ],
      "source": [
        "%%html\n",
        "\n",
        "<h1>Intro to html</h1>\n"
      ]
    },
    {
      "cell_type": "markdown",
      "source": [
        "intro to google colabs\n"
      ],
      "metadata": {
        "id": "rgY-_Ow-On87"
      }
    },
    {
      "cell_type": "code",
      "source": [
        "%%javascript\n"
      ],
      "metadata": {
        "id": "SoAGQ839PdsR"
      },
      "execution_count": null,
      "outputs": []
    },
    {
      "cell_type": "markdown",
      "source": [
        "google colabs text intro\n"
      ],
      "metadata": {
        "id": "o7kLiDMaP7yl"
      }
    }
  ]
}