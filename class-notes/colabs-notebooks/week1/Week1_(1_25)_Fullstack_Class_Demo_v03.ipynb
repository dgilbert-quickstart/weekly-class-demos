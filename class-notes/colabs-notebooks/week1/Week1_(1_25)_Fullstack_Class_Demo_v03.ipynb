{
  "nbformat": 4,
  "nbformat_minor": 0,
  "metadata": {
    "colab": {
      "provenance": []
    },
    "kernelspec": {
      "name": "python3",
      "display_name": "Python 3"
    },
    "language_info": {
      "name": "python"
    }
  },
  "cells": [
    {
      "cell_type": "markdown",
      "source": [
        "#Week 1 topic summary\n",
        "- fullstack software engineer intro\n",
        "  - javascript tech stack\n",
        "- google colabs notebook intro\n",
        "- markdown intro\n",
        "- html intro\n",
        "- css intro\n",
        "- vs.code\n",
        "  - workspace\n",
        "  - extensions\n",
        "- first website  \n",
        "- chrome devtools\n",
        "- webpage validator\n",
        "- course project 1 review\n",
        "  - wireframe\n",
        "  - use stories\n",
        "- course project 1 demo\n",
        "\n",
        "# Course notes, documents and lab exercises\n",
        "- https://github.com/dgilbert-quickstart\n",
        "- https://github.com/dgilbert-quickstart/weekly-class-demos\n",
        "\n",
        "# Software engineering fundamentals\n",
        "- Html, Css, Responsive layout, Bootstrap, Gighub, Github pages,\n",
        "- Core js, es1-6+, DOM, Data Structures, nodejs, React, Rest Api,\n",
        "SQL Other\n",
        "- Frontend, Middleware - Rest Api, Backend Sql Database\n",
        "- Real world, best practices\n",
        "- Step by step, Demo Labs and Demo Applications\n",
        "\n",
        "## Week 1 - Step-by-Step class Demos and Exercises\n",
        "- ### Introduction to Fullstack Software Engineering - Javascript\n",
        "  - ### Introduction to Software engineering\n",
        "  - ### System Development, Project Management, System Design\n",
        "  - ### DevTools / Install\n",
        "    - google CoLabs\n",
        "      - https://colab.research.google.com/\n",
        "\n",
        "      - colabs introduction\n",
        "        - https://www.marqo.ai/blog/getting-started-with-google-colab-a-beginners-guide\n",
        "\n",
        "      - colabs markdown introduction\n",
        "        - https://colab.research.google.com/github/Tanu-N-Prabhu/Python/blob/master/Cheat_sheet_for_Google_Colab.ipynb\n",
        "\n",
        "      - colabs %%html, %%javascript other\n",
        "        - https://ipython.readthedocs.io/en/stable/interactive/magics.html\n",
        "\n",
        "    - vs.code\n",
        "      - https://code.visualstudio.com/download\n",
        "  - ### Architecture overview\n",
        "    - Javascript eco systems\n",
        "    - Font-end\n",
        "    - Backend\n",
        "- ### Introduction to Google Colabs\n",
        "  - html demo\n",
        "  - javascript demo\n",
        "- ### Introduction to vs.code\n",
        "  - folders/workspace\n",
        "  - extensions\n",
        "    - html preview\n",
        "    - live server\n",
        "- ### Introductio to Markdown\n",
        "  - https://www.markdownguide.org/cheat-sheet/\n",
        "  - demo class project README.md\n",
        "\n",
        "  - vs.code markdown preview extension\n",
        "  - Markdown Preview Enhanced\n",
        "  - Yiyi Wang\n",
        "  - right-click on file then select \"markdown preview enhanced\"\n",
        "  \n",
        "- ### Introduction to HTML\n",
        "  - https://www.w3schools.com/html/default.asp\n",
        "  - formatting: p,u,i, font, div\n",
        "  - img, audio, video\n",
        "  - layout, table, css\n",
        "  \n",
        "- ### first website v1.0.0\n",
        "  - index\n",
        "  - about\n",
        "  - contact\n",
        "- nav bar\n",
        "- html form\n",
        "- layout\n",
        "- Other\n",
        "\n",
        "- ### Introduction to HTML document validation\n",
        "  - https://validator.w3.org/\n",
        "\n",
        "- ### Introduction to CSS\n",
        "  - https://www.w3schools.com/css/default.asp\n",
        "  - formatting: p,u,i, font, div\n",
        "  - center document elements\n",
        "  - nav menu\n",
        "  - layout\n",
        "  - other\n",
        "\n",
        "- ### Chrome browser DevTools introduction\n",
        "  - right click, then select, inspect\n",
        "  - source, console, network , other\n",
        "\n",
        "- ### Introduciton to Bootstrap\n",
        "  - https://www.w3schools.com/bootstrap5/index.php\n",
        "  - Bootstrap workflow overview\n",
        "  - create main bootstrap website (containers-or-flex, layout-row-cols)\n",
        "   - depending on website demo, review bootstrap component classes and add to\n",
        "   - website: for example: nav, dialog, form, other\n",
        "   - layout, responsive design\n",
        "   - also bootstrap themes and components\n",
        "   - reference bootstap locally in a website\n",
        "\n",
        "- ### Class Project #1 overview\n",
        " - user stories\n",
        " - wireframe\n",
        "\n",
        "\n"
      ],
      "metadata": {
        "id": "FhDS6SaZyU7U"
      }
    },
    {
      "cell_type": "markdown",
      "source": [
        "# vs.code - nested or bread crumb folder setting\n",
        "\n",
        "<pre>\n",
        "\n",
        "File -> Preferences -> Settings -> Features -> Explorer->compact folders(uncheck)\n",
        "\n",
        "on Mac the preferences tab can be found under\n",
        "the Code icon at the top left of the screen(should be on the left of your File icon).\n",
        "\n",
        "</pre>\n",
        "\n",
        "# vs.code disable audo html code complete\n",
        "<pre>\n",
        "if you would like that to stop you go to file > preferences > settings > search auto closing brackets and unclick this setting\n",
        "</pre>"
      ],
      "metadata": {
        "id": "X5WONdv1_wHw"
      }
    },
    {
      "cell_type": "markdown",
      "source": [
        "### in-Class practice exercises\n",
        "### in-Class Demo project\n",
        " - user stories\n",
        " - wireframe\n",
        " - project website layout and pages\n"
      ],
      "metadata": {
        "id": "FitjzYKo4A87"
      }
    },
    {
      "cell_type": "markdown",
      "source": [
        "# Introduction to HTML demo\n",
        "- https://www.w3schools.com/html/default.asp\n",
        "\n",
        "- html\n",
        "- html5\n",
        "- formatting\n",
        "- list\n",
        "- hyper links\n",
        "- navigation\n",
        "- image, audio, video  \n",
        "- forms\n",
        "- layout\n",
        "- test website using google colabs\n",
        "- validate website\n",
        "  - https://validator.w3.org/\n",
        "- browser devtool\n",
        "- preview webpage code ie: right-click then select inpect\n",
        "- other\n"
      ],
      "metadata": {
        "id": "7PvL7GAoB9n0"
      }
    },
    {
      "cell_type": "markdown",
      "source": [
        "# Markdown document demo\n",
        "  - https://www.markdownguide.org/cheat-sheet/\n",
        "  - demo class project README.md\n",
        "\n",
        "<pre>\n",
        "\n",
        "# project description\n",
        "\n",
        "# website project name\n",
        "\n",
        "# Author\n",
        "- author name\n",
        "\n",
        "# Website Technology\n",
        "- html\n",
        "- css\n",
        "\n",
        "# github code repositoty\n",
        "- http://github.com\n",
        "\n",
        "# github website url\n",
        "- htpp://github.com/\n",
        "\n",
        "</pre>"
      ],
      "metadata": {
        "id": "P_a3hr2N9ycW"
      }
    },
    {
      "cell_type": "markdown",
      "source": [
        "\n",
        "# HTML document validation Demo\n",
        "https://validator.w3.org/\n",
        "\n",
        "\n"
      ],
      "metadata": {
        "id": "4mCr64gH9XRE"
      }
    },
    {
      "cell_type": "markdown",
      "source": [
        "# Browser Dev Tools Demo\n"
      ],
      "metadata": {
        "id": "e_wqUNzT-JlA"
      }
    },
    {
      "cell_type": "code",
      "source": [
        "%%html\n",
        "\n",
        "<html>\n",
        "    <head>\n",
        "        <title>\n",
        "            Demo website 3\n",
        "        </title>\n",
        "    </head>\n",
        "    <body>\n",
        "        <h1>Demo website 3</h1>\n",
        "        <p></p>\n",
        "        <br>\n",
        "        <br/>\n",
        "    </body>\n",
        "</html>\n"
      ],
      "metadata": {
        "colab": {
          "base_uri": "https://localhost:8080/",
          "height": 111
        },
        "id": "78w2NV5KHXLA",
        "outputId": "47f1a047-9d12-487a-a39a-24de9fd16a91"
      },
      "execution_count": 1,
      "outputs": [
        {
          "output_type": "display_data",
          "data": {
            "text/plain": [
              "<IPython.core.display.HTML object>"
            ],
            "text/html": [
              "\n",
              "<html>\n",
              "    <head>\n",
              "        <title>\n",
              "            Demo website 3\n",
              "        </title>\n",
              "    </head>\n",
              "    <body>\n",
              "        <h1>Demo website 3</h1>\n",
              "        <p></p>\n",
              "        <br>\n",
              "        <br/>\n",
              "    </body>\n",
              "</html>\n"
            ]
          },
          "metadata": {}
        }
      ]
    },
    {
      "cell_type": "code",
      "source": [
        "%%html\n",
        "\n",
        "<h1>Demo website 3.1</h1>\n",
        "<p></p>\n",
        "<br>\n",
        "<br/>\n"
      ],
      "metadata": {
        "colab": {
          "base_uri": "https://localhost:8080/",
          "height": 111
        },
        "id": "Lqk9v6bEISfl",
        "outputId": "50ed58bd-0331-4a76-8589-d1f40442724a"
      },
      "execution_count": 2,
      "outputs": [
        {
          "output_type": "display_data",
          "data": {
            "text/plain": [
              "<IPython.core.display.HTML object>"
            ],
            "text/html": [
              "\n",
              "<h1>Demo website 3.1</h1>\n",
              "<p></p>\n",
              "<br>\n",
              "<br/>\n"
            ]
          },
          "metadata": {}
        }
      ]
    },
    {
      "cell_type": "code",
      "source": [
        "%%html\n",
        "<!-- html comment -->\n",
        "<html>\n",
        "  <head>\n",
        "    <title>html demo 2</title>\n",
        "  <head>\n",
        "  <body>\n",
        "    <h1>Html demo 2</h1>\n",
        "  </body>\n",
        "</html>"
      ],
      "metadata": {
        "id": "QNUoOEHqDREe",
        "colab": {
          "base_uri": "https://localhost:8080/",
          "height": 74
        },
        "outputId": "dfac26ca-f921-41c2-9c60-45f402191ad2"
      },
      "execution_count": null,
      "outputs": [
        {
          "output_type": "display_data",
          "data": {
            "text/plain": [
              "<IPython.core.display.HTML object>"
            ],
            "text/html": [
              "<!-- html comment -->\n",
              "<html>\n",
              "  <head>\n",
              "    <title>html demo 2</title>\n",
              "  <head>\n",
              "  <body>\n",
              "    <h1>Html demo 2</h1>\n",
              "  </body>\n",
              "</html>\n"
            ]
          },
          "metadata": {}
        }
      ]
    },
    {
      "cell_type": "code",
      "source": [
        "%%javascript\n",
        "\n",
        "var version = \"es1-es6\"\n",
        "alert(\"introduction to javascript \" + version)\n",
        "console.log(\"introduction to javascript \" + version)\n"
      ],
      "metadata": {
        "id": "q6r-74nRCKO_"
      },
      "execution_count": null,
      "outputs": []
    },
    {
      "cell_type": "code",
      "source": [
        "%%html\n",
        "<!-- index.html -->\n",
        "<html>\n",
        "    <head>\n",
        "        <title>Demo website 1</title>\n",
        "    </head>\n",
        "    <body>\n",
        "        <h1>Demo website 1</h1>\n",
        "    </body>\n",
        "</html>\n"
      ],
      "metadata": {
        "id": "8Lxg9Tozvwqc"
      },
      "execution_count": null,
      "outputs": []
    },
    {
      "cell_type": "code",
      "source": [
        "%%html\n",
        "<html>\n",
        "    <head>\n",
        "        <title>Demo website 2</title>\n",
        "    </head>\n",
        "    <body>\n",
        "        <h1>Demo website 2</h1>\n",
        "\n",
        "        <p></p>\n",
        "\n",
        "        <div>\n",
        "            <span>Item list</span>\n",
        "            <ul>\n",
        "                <li>item 1</li>\n",
        "                <li>item 2</li>\n",
        "                <li>item 3</li>\n",
        "            </ul>\n",
        "            <p></p>\n",
        "            <br>\n",
        "            <ol>\n",
        "                <li>item a</li>\n",
        "                <li>item b</li>\n",
        "                <li>item c</li>\n",
        "            </ol>\n",
        "        </div>\n",
        "\n",
        "    </body>\n",
        "</html>\n",
        "\n"
      ],
      "metadata": {
        "colab": {
          "base_uri": "https://localhost:8080/",
          "height": 232
        },
        "id": "H9YPrwFrBOle",
        "outputId": "348c6823-a477-42bf-bddb-f963b40012a7"
      },
      "execution_count": null,
      "outputs": [
        {
          "output_type": "display_data",
          "data": {
            "text/plain": [
              "<IPython.core.display.HTML object>"
            ],
            "text/html": [
              "\n",
              "<html>\n",
              "    <head>\n",
              "        <title>Demo website 2</title>\n",
              "    </head>\n",
              "    <body>\n",
              "        <h1>Demo website 2</h1>\n",
              "\n",
              "        <p></p>\n",
              "        \n",
              "        <div>\n",
              "            <span>Item list</span>\n",
              "            <ul>\n",
              "                <li>item 1</li>\n",
              "                <li>item 2</li>\n",
              "                <li>item 3</li>\n",
              "            </ul>\n",
              "            <p></p>\n",
              "            <ol>\n",
              "                <li>item a</li>\n",
              "                <li>item b</li>\n",
              "                <li>item c</li>\n",
              "            </ol>\n",
              "        </div>\n",
              "        \n",
              "    </body>\n",
              "</html>\n",
              "\n"
            ]
          },
          "metadata": {}
        }
      ]
    },
    {
      "cell_type": "code",
      "source": [
        "%%html\n",
        "\n",
        "<html>\n",
        "    <head>\n",
        "        <title>\n",
        "            Demo website 4\n",
        "        </title>\n",
        "    </head>\n",
        "    <body>\n",
        "            <h1>Demo website 4</h1>\n",
        "\n",
        "            <p></p>\n",
        "            <br>\n",
        "            <span>Item list</span>\n",
        "            <p></p>\n",
        "            <ul>\n",
        "                <li>item 1</li>\n",
        "                <li>item 2</li>\n",
        "                <li>item 3</li>\n",
        "                <li>item 4</li>\n",
        "                <li>item 5</li>\n",
        "            </ul>\n",
        "\n",
        "            <p></p>\n",
        "            <ol>\n",
        "                <li>item a</li>\n",
        "                <li>item b</li>\n",
        "                <li>item c</li>\n",
        "                <li>item d</li>\n",
        "                <li>item e</li>\n",
        "            </ol>\n",
        "            <p></p>\n",
        "            <!-- html comment - not visible in browser, can preview comment in html code -->\n",
        "            <ul>\n",
        "                <li>\n",
        "                    <img alt=\"image1\" src=\"image1.jpg\" width=\"100\" height=\"100\">\n",
        "                </li>\n",
        "                <li>\n",
        "                    <img alt=\"image2\" src=\"image2.png\" width=\"100\" height=\"100\">\n",
        "                </li>\n",
        "            </ul>\n",
        "\n",
        "    </body>\n",
        "</html>\n"
      ],
      "metadata": {
        "id": "xhNcZheJ8Z7x"
      },
      "execution_count": null,
      "outputs": []
    },
    {
      "cell_type": "code",
      "source": [
        "%%html\n",
        "<html>\n",
        "    <head>\n",
        "        <title>\n",
        "            Demo website 5\n",
        "        </title>\n",
        "    </head>\n",
        "    <body>\n",
        "\n",
        "        <img atl=\"image1.png\" src=\"image1.png\" width=\"400\" height=\"50\">\n",
        "\n",
        "        <p></p>\n",
        "\n",
        "        <h1>Demo Website 5</h1>\n",
        "\n",
        "        <!--\n",
        "            html comment - item list\n",
        "         -->\n",
        "\n",
        "         <h2>Item List</h2>\n",
        "\n",
        "         <ul>\n",
        "            <li>\n",
        "                <img alt=\"image1\" src=\"image2.jpg\" width=\"100\" height=\"100\">\n",
        "            </li>\n",
        "            <li>\n",
        "                <img alt=\"image2\" src=\"image3.png\" width=\"100\" height=\"100\">\n",
        "            </li>\n",
        "        </ul>\n",
        "\n",
        "    </body>\n",
        "</html>"
      ],
      "metadata": {
        "id": "E-ygy4gP8a5D"
      },
      "execution_count": null,
      "outputs": []
    }
  ]
}