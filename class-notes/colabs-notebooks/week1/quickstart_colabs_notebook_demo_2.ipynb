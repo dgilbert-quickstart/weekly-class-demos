{
  "nbformat": 4,
  "nbformat_minor": 0,
  "metadata": {
    "colab": {
      "provenance": []
    },
    "kernelspec": {
      "name": "python3",
      "display_name": "Python 3"
    },
    "language_info": {
      "name": "python"
    }
  },
  "cells": [
    {
      "cell_type": "code",
      "execution_count": 1,
      "metadata": {
        "colab": {
          "base_uri": "https://localhost:8080/",
          "height": 74
        },
        "id": "Y1fKMuEGF4ZY",
        "outputId": "fe965870-c4ad-4730-f9c0-a9fbf401ee00"
      },
      "outputs": [
        {
          "output_type": "display_data",
          "data": {
            "text/plain": [
              "<IPython.core.display.HTML object>"
            ],
            "text/html": [
              "\n",
              "<h1>Intro to HTML</h1>\n"
            ]
          },
          "metadata": {}
        }
      ],
      "source": [
        "%%html\n",
        "\n",
        "<h1>Intro to HTML</h1>\n"
      ]
    },
    {
      "cell_type": "markdown",
      "source": [
        "Intro to html5\n",
        "\n",
        "h1 - height element\n"
      ],
      "metadata": {
        "id": "-TOlOniAHdwA"
      }
    },
    {
      "cell_type": "code",
      "source": [
        "%%javascript\n",
        "\n",
        "//javascript comment\n",
        "alert(\"# intro to javascript\")\n"
      ],
      "metadata": {
        "colab": {
          "base_uri": "https://localhost:8080/",
          "height": 17
        },
        "id": "dzzg3dzaIlkK",
        "outputId": "8685be4b-2345-445d-f87c-80e560ce66dc"
      },
      "execution_count": 2,
      "outputs": [
        {
          "output_type": "display_data",
          "data": {
            "text/plain": [
              "<IPython.core.display.Javascript object>"
            ],
            "application/javascript": [
              "\n",
              "//javascript comment \n",
              "alert(\"# intro to javascript\")\n"
            ]
          },
          "metadata": {}
        }
      ]
    },
    {
      "cell_type": "code",
      "source": [
        "%%html\n",
        "\n",
        "<html>\n",
        "  <head>\n",
        "    <style>\n",
        "    /* css comment - style sheet */\n",
        "    h1 {\n",
        "      color:blue\n",
        "    }\n",
        "    </style>\n",
        "  </head>\n",
        "<body>\n",
        "  <h1>Into to html css</h1>\n",
        "</body>\n",
        "</html>\n"
      ],
      "metadata": {
        "colab": {
          "base_uri": "https://localhost:8080/",
          "height": 74
        },
        "id": "qnt1AezKKTQk",
        "outputId": "17779cb2-bc77-4714-fd1f-5a674a45a26a"
      },
      "execution_count": 4,
      "outputs": [
        {
          "output_type": "display_data",
          "data": {
            "text/plain": [
              "<IPython.core.display.HTML object>"
            ],
            "text/html": [
              "\n",
              "<html>\n",
              "  <head>\n",
              "  <style>\n",
              "  /*style shee*/\n",
              "  h1 {\n",
              "    color:blue\n",
              "  }\n",
              "  </style>\n",
              "  </head>\n",
              "<body>\n",
              "  <h1>Into to html css</h1>\n",
              "</body>\n",
              "</html>\n"
            ]
          },
          "metadata": {}
        }
      ]
    }
  ]
}