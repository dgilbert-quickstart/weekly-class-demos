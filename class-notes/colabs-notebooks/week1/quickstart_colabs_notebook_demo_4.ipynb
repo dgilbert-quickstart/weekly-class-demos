{
  "nbformat": 4,
  "nbformat_minor": 0,
  "metadata": {
    "colab": {
      "provenance": []
    },
    "kernelspec": {
      "name": "python3",
      "display_name": "Python 3"
    },
    "language_info": {
      "name": "python"
    }
  },
  "cells": [
    {
      "cell_type": "markdown",
      "source": [
        "Introduction to Markdown\n",
        "\n",
        "- simplified formatted text similar to html\n",
        "- 5 common markdown codes/element\n",
        "  - heading, bold, underline, italic, list, bullited list\n",
        "- create formatted technical documentation\n",
        "- used in github, colabs, other technologies\n",
        "- use any valid html code/element\n",
        "- must use a markdown viewer\n",
        "- some technologies has markdown viewer built in ie: github, colabs\n",
        "- used the filename.md extension\n",
        "- to create indented list markdown text\n"
      ],
      "metadata": {
        "id": "2NFUOQzGlUnU"
      }
    },
    {
      "cell_type": "markdown",
      "source": [
        "non Markdown Demo 1\n",
        "\n",
        "item 1\n",
        "item 2\n",
        "\n",
        "item 3\n",
        "\n",
        "\n"
      ],
      "metadata": {
        "id": "eE_732O6oHTY"
      }
    },
    {
      "cell_type": "markdown",
      "source": [
        "Markdown Demo 2\n",
        "\n",
        "minus create list item\n",
        "\n",
        "- item 1\n",
        "- item 2\n",
        "- item 3\n",
        "\n",
        "\n",
        "\n"
      ],
      "metadata": {
        "id": "v_gBToJwpWh7"
      }
    },
    {
      "cell_type": "markdown",
      "source": [
        "# Markdown Demo 3\n",
        "\n",
        "# Heading 1\n",
        "\n",
        "pound sign - ie: html hight or h1 element\n",
        "\n",
        "- item 1\n",
        "- item 2\n",
        "- item 3\n",
        "\n",
        "\n",
        "\n"
      ],
      "metadata": {
        "id": "MARjXL7eqZLK"
      }
    },
    {
      "cell_type": "markdown",
      "source": [
        "# Markdown Demo 4\n",
        "\n",
        "# Heading 1\n",
        "## Heading 2\n",
        "### Heading 3\n",
        "#### Heading 4\n",
        "##### Heading 5\n",
        "###### Heading 6\n",
        "\n",
        "pound sign - ie: html hight or h1 element\n",
        "\n",
        "- item 1\n",
        "- item 2\n",
        "- item 3\n",
        "\n",
        "\n",
        "\n"
      ],
      "metadata": {
        "id": "b2hMS8ADr0Lc"
      }
    },
    {
      "cell_type": "markdown",
      "source": [
        "# Markdown Demo 5\n",
        "\n",
        "# Heading 1\n",
        "## Heading 2\n",
        "### Heading 3\n",
        "#### Heading 4\n",
        "##### Heading 5\n",
        "###### Heading 6\n",
        "\n",
        "pound sign - ie: html hight or h1 element\n",
        "\n",
        "- item 1\n",
        "- item 2\n",
        "- item 3\n",
        "\n",
        "**bold**\n",
        "\n",
        "*italic*\n"
      ],
      "metadata": {
        "id": "MkpFvCl8s7Bt"
      }
    },
    {
      "cell_type": "markdown",
      "source": [
        "# Markdown Demo 6\n",
        "\n",
        "# Heading 1\n",
        "## Heading 2\n",
        "### Heading 3\n",
        "#### Heading 4\n",
        "##### Heading 5\n",
        "###### Heading 6\n",
        "\n",
        "pound sign - ie: html hight or h1 element\n",
        "\n",
        "- item 1\n",
        "- item 2\n",
        "- item 3\n",
        "\n",
        "**bold**\n",
        "\n",
        "*italic*\n",
        "\n",
        "<h1>Markdown html example</h1>\n"
      ],
      "metadata": {
        "id": "lbmtB0W8uz5b"
      }
    },
    {
      "cell_type": "code",
      "execution_count": null,
      "metadata": {
        "id": "CeyKEeKdk2UJ"
      },
      "outputs": [],
      "source": []
    }
  ]
}