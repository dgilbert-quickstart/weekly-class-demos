{
  "nbformat": 4,
  "nbformat_minor": 0,
  "metadata": {
    "colab": {
      "provenance": []
    },
    "kernelspec": {
      "name": "python3",
      "display_name": "Python 3"
    },
    "language_info": {
      "name": "python"
    }
  },
  "cells": [
    {
      "cell_type": "markdown",
      "source": [
        "#Week 1 topic summary\n",
        "- fullstack software engineer intro\n",
        "  - javascript tech stack\n",
        "- google colabs notebook intro\n",
        "- markdown intro\n",
        "- html intro\n",
        "- css intro\n",
        "- vs.code\n",
        "  - workspace\n",
        "  - extensions\n",
        "- first website  \n",
        "- chrome devtools\n",
        "- webpage validator\n",
        "- course project 1 review\n",
        "  - wireframe\n",
        "  - use stories\n",
        "- course project 1 demo\n",
        "\n",
        "# Course notes, documents and lab exercises\n",
        "- https://github.com/dgilbert-quickstart\n",
        "- https://github.com/dgilbert-quickstart/weekly-class-demos\n",
        "\n",
        "# Software engineering fundamentals\n",
        "- Html, Css, Responsive layout, Bootstrap, Gighub, Github pages,\n",
        "- Core js, es1-6+, DOM, Data Structures, nodejs, React, Rest Api,\n",
        "SQL Other\n",
        "- Frontend, Middleware - Rest Api, Backend Sql Database\n",
        "- Real world, best practices\n",
        "- Step by step, Demo Labs and Demo Applications\n",
        "\n",
        "## Week 1 - Step-by-Step class Demos and Exercises\n",
        "- ### Introduction to Fullstack Software Engineering - Javascript\n",
        "  - ### Introduction to Software engineering\n",
        "  - ### System Development, Project Management, System Design\n",
        "  - ### DevTools / Install\n",
        "    - google CoLabs\n",
        "      - https://colab.research.google.com/\n",
        "\n",
        "      - colabs introduction\n",
        "        - https://www.marqo.ai/blog/getting-started-with-google-colab-a-beginners-guide\n",
        "\n",
        "      - colabs markdown introduction\n",
        "        - https://colab.research.google.com/github/Tanu-N-Prabhu/Python/blob/master/Cheat_sheet_for_Google_Colab.ipynb\n",
        "\n",
        "      - colabs %%html, %%javascript other\n",
        "        - https://ipython.readthedocs.io/en/stable/interactive/magics.html\n",
        "\n",
        "    - vs.code\n",
        "      - https://code.visualstudio.com/download\n",
        "  - ### Architecture overview\n",
        "    - Javascript eco systems\n",
        "    - Font-end\n",
        "    - Backend\n",
        "- ### Introduction to Google Colabs\n",
        "  - html demo\n",
        "  - javascript demo\n",
        "- ### Introduction to vs.code\n",
        "  - folders/workspace\n",
        "  - extensions\n",
        "    - html preview\n",
        "    - live server\n",
        "- ### Introductio to Markdown\n",
        "  - https://www.markdownguide.org/cheat-sheet/\n",
        "  - demo class project README.md\n",
        "\n",
        "- ### Introduction to HTML\n",
        "  - https://www.w3schools.com/html/default.asp\n",
        "  - formatting: p,u,i, font, div\n",
        "  - img, audio, video\n",
        "  - layout, table, css\n",
        "  \n",
        "- ### first website v1.0.0\n",
        "  - index\n",
        "  - about\n",
        "  - contact\n",
        "- nav bar\n",
        "- html form\n",
        "- layout\n",
        "- Other\n",
        "- ### Introduction to HTML document validation\n",
        "  - https://validator.w3.org/\n",
        "- ### Introduction to CSS\n",
        "  - https://www.w3schools.com/css/default.asp\n",
        "  - formatting: p,u,i, font, div\n",
        "  - center document elements\n",
        "  - nav menu\n",
        "  - layout\n",
        "  - other\n",
        "- ### Chrome browser DevTools introduction\n",
        "  - right click, then select, inspect\n",
        "  - source, console, network , other\n",
        "- ### Introduciton to Bootstrap\n",
        "  - https://www.w3schools.com/bootstrap5/index.php\n",
        "  - Bootstrap workflow overview\n",
        "  - create main bootstrap website (containers-or-flex, layout-row-cols)\n",
        "   - depending on website demo, review bootstrap component classes and add to\n",
        "   - website: for example: nav, dialog, form, other\n",
        "   - layout, responsive design\n",
        "   - also bootstrap themes and components\n",
        "   - reference bootstap locally in a website\n",
        "- ### Class Project #1 overview\n",
        " - user stories\n",
        " - wireframe\n",
        "\n",
        "\n"
      ],
      "metadata": {
        "id": "FhDS6SaZyU7U"
      }
    },
    {
      "cell_type": "markdown",
      "source": [
        "### in-Class practice exercises\n",
        "### in-Class Demo project\n",
        " - user stories\n",
        " - wireframe\n",
        " - project website layout and pages\n"
      ],
      "metadata": {
        "id": "FitjzYKo4A87"
      }
    },
    {
      "cell_type": "markdown",
      "source": [
        "### Google Colabs class Demo\n",
        "- https://colab.research.google.com/\n",
        "- New Notebook\n",
        "  - File / New notebook in drive\n",
        "  - file name: Week1-QuickStart-Google-Colabs-Class-Demo-1\n",
        "  - add, delete cells\n",
        "  - open a notebook\n",
        "  - download notebook (*.ipynb)\n",
        "\n"
      ],
      "metadata": {
        "id": "LXVOrIO1vhtQ"
      }
    },
    {
      "cell_type": "markdown",
      "source": [
        "Google colabs demo 2\n",
        "\n",
        "Google colabs html, css, js demo\n"
      ],
      "metadata": {
        "id": "7PvL7GAoB9n0"
      }
    },
    {
      "cell_type": "code",
      "source": [
        "%%html\n",
        "<!-- html comment -->\n",
        "<html>\n",
        "  <head>\n",
        "    <title>html demo 2</title>\n",
        "  <head>\n",
        "  <body>\n",
        "    <h1>Html demo 2</h1>\n",
        "  </body>\n",
        "</html>"
      ],
      "metadata": {
        "id": "QNUoOEHqDREe",
        "colab": {
          "base_uri": "https://localhost:8080/",
          "height": 74
        },
        "outputId": "dfac26ca-f921-41c2-9c60-45f402191ad2"
      },
      "execution_count": null,
      "outputs": [
        {
          "output_type": "display_data",
          "data": {
            "text/plain": [
              "<IPython.core.display.HTML object>"
            ],
            "text/html": [
              "<!-- html comment -->\n",
              "<html>\n",
              "  <head>\n",
              "    <title>html demo 2</title>\n",
              "  <head>\n",
              "  <body>\n",
              "    <h1>Html demo 2</h1>\n",
              "  </body>\n",
              "</html>\n"
            ]
          },
          "metadata": {}
        }
      ]
    },
    {
      "cell_type": "code",
      "source": [
        "%%javascript\n",
        "\n",
        "var version = \"es1-es6\"\n",
        "alert(\"introduction to javascript \" + version)\n",
        "console.log(\"introduction to javascript \" + version)\n"
      ],
      "metadata": {
        "id": "q6r-74nRCKO_"
      },
      "execution_count": null,
      "outputs": []
    },
    {
      "cell_type": "markdown",
      "source": [
        "## Introduction to vs.code\n",
        "- https://code.visualstudio.com/download\n",
        "- folder/workspace\n",
        "  - workspace - add 1 or more filders\n",
        "\n",
        "- vs.code extensions - development tools used to enhance development\n",
        "  - html preview\n",
        "  - live server\n",
        "\n",
        "# vs.code class project workspace\n",
        "- c:\\quickstart-dev\\weekly-class-demos\\week1\\demo-website-1\n",
        "\n",
        "<pre>\n",
        "--------------------------\n",
        "Create vs.code workspace\n",
        "--------------------------\n",
        "1. create a root project folder\n",
        "   or stating project folder\n",
        "\n",
        "   c:\\vs-code-dev-demo-1\n",
        "\n",
        "2. Start vs.code\n",
        "  - from windows menu/macos programs\n",
        "\n",
        "3. select the expolorer icon\n",
        "\n",
        "4. select file, then, add folder to workspace\n",
        "   then select foler \"vs-code-dev-demo-1\"\n",
        "\n",
        "5. File, Save Workspace as\n",
        "  -- keep the default name\n",
        "\n",
        "## (step 1-5 are done only 1 time)\n",
        "\n",
        "-----------------------------------\n",
        "opening an exisitng workspace\n",
        "-----------------------------------\n",
        "1. Start vs.code\n",
        "  - from windows menu/macos programs\n",
        "\n",
        "2. select file, then, open workspace\n",
        "   then select foler \"vs-code-dev-demo-1\"\n",
        "   or File then , select, \"Open recenent\"\n",
        "   \n",
        "</pre>"
      ],
      "metadata": {
        "id": "IC1cXDT5EPvI"
      }
    },
    {
      "cell_type": "markdown",
      "source": [
        "\n",
        "## creating demo website using vs.code\n",
        "\n",
        "<pre>\n",
        "---------------------------------------\n",
        "create website using vs.code\n",
        "---------------------------------------\n",
        "1. create a website folder\n",
        "  select the new folder icon\n",
        "  example: \"demo-website-1\"\n",
        "\n",
        "2. create website file\n",
        "  select the new file icon\n",
        "  \"index.html\"\n",
        "\n",
        "</pre>\n",
        "\n"
      ],
      "metadata": {
        "id": "9UYbNwu-bYdG"
      }
    },
    {
      "cell_type": "code",
      "source": [
        "%%html\n",
        "<!-- index.html -->\n",
        "<html>\n",
        "    <head>\n",
        "        <title>Demo website 1</title>\n",
        "    </head>\n",
        "    <body>\n",
        "        <h1>Demo website 1</h1>\n",
        "    </body>\n",
        "</html>\n"
      ],
      "metadata": {
        "id": "8Lxg9Tozvwqc"
      },
      "execution_count": null,
      "outputs": []
    },
    {
      "cell_type": "code",
      "source": [
        "%%html\n",
        "<html>\n",
        "    <head>\n",
        "        <title>Demo website 2</title>\n",
        "    </head>\n",
        "    <body>\n",
        "        <h1>Demo website 2</h1>\n",
        "\n",
        "        <p></p>\n",
        "\n",
        "        <div>\n",
        "            <span>Item list</span>\n",
        "            <ul>\n",
        "                <li>item 1</li>\n",
        "                <li>item 2</li>\n",
        "                <li>item 3</li>\n",
        "            </ul>\n",
        "            <p></p>\n",
        "            <br>\n",
        "            <ol>\n",
        "                <li>item a</li>\n",
        "                <li>item b</li>\n",
        "                <li>item c</li>\n",
        "            </ol>\n",
        "        </div>\n",
        "\n",
        "    </body>\n",
        "</html>\n",
        "\n"
      ],
      "metadata": {
        "colab": {
          "base_uri": "https://localhost:8080/",
          "height": 232
        },
        "id": "H9YPrwFrBOle",
        "outputId": "348c6823-a477-42bf-bddb-f963b40012a7"
      },
      "execution_count": 2,
      "outputs": [
        {
          "output_type": "display_data",
          "data": {
            "text/plain": [
              "<IPython.core.display.HTML object>"
            ],
            "text/html": [
              "\n",
              "<html>\n",
              "    <head>\n",
              "        <title>Demo website 2</title>\n",
              "    </head>\n",
              "    <body>\n",
              "        <h1>Demo website 2</h1>\n",
              "\n",
              "        <p></p>\n",
              "        \n",
              "        <div>\n",
              "            <span>Item list</span>\n",
              "            <ul>\n",
              "                <li>item 1</li>\n",
              "                <li>item 2</li>\n",
              "                <li>item 3</li>\n",
              "            </ul>\n",
              "            <p></p>\n",
              "            <ol>\n",
              "                <li>item a</li>\n",
              "                <li>item b</li>\n",
              "                <li>item c</li>\n",
              "            </ol>\n",
              "        </div>\n",
              "        \n",
              "    </body>\n",
              "</html>\n",
              "\n"
            ]
          },
          "metadata": {}
        }
      ]
    },
    {
      "cell_type": "markdown",
      "source": [
        "- vs.code extensions - development tools used to enhance development\n",
        " - select the extension icon\n",
        " - search for and install extension\n",
        "\n",
        "  - html preview\n",
        "    - example:\n",
        "     - HTML Preview\n",
        "     - George Oliveira\n",
        "   - use extension\n",
        "   - right-click on the file, then select \"open preview\"\n",
        "\n",
        "  - live server\n",
        "    - example:\n",
        "    - Live Server\n",
        "    - Ritwick Dey\n",
        "   - use extension\n",
        "     - right-click on the file, then select \"open with live server\"\n",
        "\n",
        "<pre>\n",
        "\n",
        "</pre>"
      ],
      "metadata": {
        "id": "Vt4T36XmwXev"
      }
    }
  ]
}