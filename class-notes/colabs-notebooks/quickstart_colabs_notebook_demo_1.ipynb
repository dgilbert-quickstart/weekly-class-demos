{
  "nbformat": 4,
  "nbformat_minor": 0,
  "metadata": {
    "colab": {
      "provenance": []
    },
    "kernelspec": {
      "name": "python3",
      "display_name": "Python 3"
    },
    "language_info": {
      "name": "python"
    }
  },
  "cells": [
    {
      "cell_type": "code",
      "execution_count": 3,
      "metadata": {
        "colab": {
          "base_uri": "https://localhost:8080/"
        },
        "id": "cwuBr1lozmyP",
        "outputId": "61d51940-1925-4ce6-b696-0b3b7f349d64"
      },
      "outputs": [
        {
          "output_type": "stream",
          "name": "stdout",
          "text": [
            "# intro to python\n"
          ]
        }
      ],
      "source": [
        "#python commment\n",
        "\n",
        "print(\"# intro to python\")\n"
      ]
    },
    {
      "cell_type": "markdown",
      "source": [
        "Intro to html\n"
      ],
      "metadata": {
        "id": "YV-n0JNe1yoo"
      }
    },
    {
      "cell_type": "code",
      "source": [
        "%%html\n",
        "\n",
        "<h1>Intro to html</h1>\n"
      ],
      "metadata": {
        "colab": {
          "base_uri": "https://localhost:8080/",
          "height": 74
        },
        "id": "_7wCgdsN2Ksg",
        "outputId": "31374d6d-1cf7-4ccc-c372-45c5fdf24271"
      },
      "execution_count": 7,
      "outputs": [
        {
          "output_type": "display_data",
          "data": {
            "text/plain": [
              "<IPython.core.display.HTML object>"
            ],
            "text/html": [
              "\n",
              "<h1>Intro to html</h1>\n"
            ]
          },
          "metadata": {}
        }
      ]
    },
    {
      "cell_type": "code",
      "source": [
        "%%javascript\n",
        "\n",
        "//javascript comment\n",
        "alert(\"intro to javascript\")\n"
      ],
      "metadata": {
        "colab": {
          "base_uri": "https://localhost:8080/",
          "height": 17
        },
        "id": "9Rt8m-PM4GE9",
        "outputId": "320c9f89-ad1c-4dfb-f88b-9e9d2661a66a"
      },
      "execution_count": 6,
      "outputs": [
        {
          "output_type": "display_data",
          "data": {
            "text/plain": [
              "<IPython.core.display.Javascript object>"
            ],
            "application/javascript": [
              "\n",
              "//javascript comment \n",
              "alert(\"intro to javascript\")\n"
            ]
          },
          "metadata": {}
        }
      ]
    }
  ]
}